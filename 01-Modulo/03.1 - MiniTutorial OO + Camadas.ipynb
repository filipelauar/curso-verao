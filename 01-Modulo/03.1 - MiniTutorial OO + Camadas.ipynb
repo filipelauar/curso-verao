{
  "nbformat": 4,
  "nbformat_minor": 0,
  "metadata": {
    "kernelspec": {
      "display_name": "Python 3",
      "language": "python",
      "name": "python3"
    },
    "language_info": {
      "codemirror_mode": {
        "name": "ipython",
        "version": 3
      },
      "file_extension": ".py",
      "mimetype": "text/x-python",
      "name": "python",
      "nbconvert_exporter": "python",
      "pygments_lexer": "ipython3",
      "version": "3.7.3"
    },
    "colab": {
      "name": "03.1 - MiniTutorial OO + Camadas.ipynb",
      "provenance": []
    }
  },
  "cells": [
    {
      "cell_type": "markdown",
      "metadata": {
        "id": "xQJGoF-f5PBg",
        "colab_type": "text"
      },
      "source": [
        "## Mini Introdução OO\n",
        "\n",
        "Uma grande parte das bibliotecas de hoje em dia exploram conceitos de orientação a objetos. Embora não tempos tempo de ensinar um curso inteiro de OO, seria pelo menos um semestre, podemos cobrir o essencial neste notebook. Caso queira uma única palavra para sumarizar: o essencial aqui é o conceito de **estado**!.\n",
        "\n",
        "Existem dois termos importantes para entender OO:\n",
        "1. Classes\n",
        "2. Objetos\n",
        "\n",
        "Classes definem um esqueleto do que será armazenado. Objetos definem uma instância da classe na memória. Abaixo temos uma classe simples chamadas de agregador. No momento, a mesma não faz nada!"
      ]
    },
    {
      "cell_type": "code",
      "metadata": {
        "id": "BGsnuT7G5PBi",
        "colab_type": "code",
        "colab": {}
      },
      "source": [
        "class Agregador(object):\n",
        "    pass"
      ],
      "execution_count": 0,
      "outputs": []
    },
    {
      "cell_type": "markdown",
      "metadata": {
        "id": "EtbGv0kS5PBn",
        "colab_type": "text"
      },
      "source": [
        "Podemos instanciar nossas classes, ficando assim com dois objetos na memória:"
      ]
    },
    {
      "cell_type": "code",
      "metadata": {
        "id": "R6CE4ncN5PBp",
        "colab_type": "code",
        "colab": {}
      },
      "source": [
        "obj1 = Agregador()\n",
        "obj2 = Agregador()"
      ],
      "execution_count": 0,
      "outputs": []
    },
    {
      "cell_type": "markdown",
      "metadata": {
        "id": "lECPEeAC5PBt",
        "colab_type": "text"
      },
      "source": [
        "Cada instância, ou objeto, difere um do outro"
      ]
    },
    {
      "cell_type": "code",
      "metadata": {
        "id": "Ku4d5Kum5PBt",
        "colab_type": "code",
        "colab": {}
      },
      "source": [
        "obj1 == obj2"
      ],
      "execution_count": 0,
      "outputs": []
    },
    {
      "cell_type": "markdown",
      "metadata": {
        "id": "c-LwCgoI5PBy",
        "colab_type": "text"
      },
      "source": [
        "Agora, vamos adicionar um **atributo**, um pouco de memória, na nossa classe. O mesmo guarda um valor simples. Se objetos são instâncias de classes, algum local tem guardar o estado desta instância. Em python, tal local é chamado de **self**. Todo objeto tem uma referência para seu estado, o self, que no fim das contas é uma referência para ele mesmo. \n",
        "\n",
        "O método `__init__(self)` é o **construtor** da classe, ou seja, quando um objeto é instanciado, esse método é chamado para definir o estado inicial do objeto. "
      ]
    },
    {
      "cell_type": "code",
      "metadata": {
        "id": "3ZKWW-CX5PBz",
        "colab_type": "code",
        "colab": {}
      },
      "source": [
        "class Agregador(object):\n",
        "    def __init__(self):\n",
        "        self._value = 0   # Toda instância agora guarda um inteiro simples!"
      ],
      "execution_count": 0,
      "outputs": []
    },
    {
      "cell_type": "code",
      "metadata": {
        "id": "-9r6iJQj5PB2",
        "colab_type": "code",
        "colab": {}
      },
      "source": [
        "obj1 = Agregador()\n",
        "obj2 = Agregador()\n",
        "\n",
        "print(obj1._value)\n",
        "print(obj2._value)"
      ],
      "execution_count": 0,
      "outputs": []
    },
    {
      "cell_type": "markdown",
      "metadata": {
        "id": "0xyS1lTd5PB6",
        "colab_type": "text"
      },
      "source": [
        "Dois objetos podem guardar um mesmo estado. Acima, os dois tem valor = 0. Ainda assim, são dois objetos diferentes, ocupam locais diferentes da memória do computador."
      ]
    },
    {
      "cell_type": "code",
      "metadata": {
        "id": "eM2n1Z5d5PB7",
        "colab_type": "code",
        "colab": {}
      },
      "source": [
        "hex(id(obj1))"
      ],
      "execution_count": 0,
      "outputs": []
    },
    {
      "cell_type": "code",
      "metadata": {
        "id": "O9opRsAI5PB_",
        "colab_type": "code",
        "colab": {}
      },
      "source": [
        "hex(id(obj2))"
      ],
      "execution_count": 0,
      "outputs": []
    },
    {
      "cell_type": "markdown",
      "metadata": {
        "id": "jQzoNDk25PCG",
        "colab_type": "text"
      },
      "source": [
        "Por fim, objetos funcionam através de referências. A linha abaixo não cria um objeto novo, temos duas referências para um mesmo local da memória."
      ]
    },
    {
      "cell_type": "code",
      "metadata": {
        "id": "FRKQxJwf5PCH",
        "colab_type": "code",
        "colab": {}
      },
      "source": [
        "obj3 = obj1\n",
        "hex(id(obj3)) # note como aqui temos o mesmo endereco do obj1"
      ],
      "execution_count": 0,
      "outputs": []
    },
    {
      "cell_type": "code",
      "metadata": {
        "id": "wfyAoLVZ5PCM",
        "colab_type": "code",
        "colab": {}
      },
      "source": [
        "hex(id(obj1))"
      ],
      "execution_count": 0,
      "outputs": []
    },
    {
      "cell_type": "markdown",
      "metadata": {
        "id": "4MKgk5kt5PCP",
        "colab_type": "text"
      },
      "source": [
        "Como obj1 e obj3 são a mesma coisa, ao mudar um mudamos o outro."
      ]
    },
    {
      "cell_type": "code",
      "metadata": {
        "id": "X5NdTXxY5PCP",
        "colab_type": "code",
        "colab": {}
      },
      "source": [
        "obj1._value = 9"
      ],
      "execution_count": 0,
      "outputs": []
    },
    {
      "cell_type": "code",
      "metadata": {
        "id": "YeEJt_QC5PCS",
        "colab_type": "code",
        "colab": {}
      },
      "source": [
        "print(obj3._value)"
      ],
      "execution_count": 0,
      "outputs": []
    },
    {
      "cell_type": "markdown",
      "metadata": {
        "id": "ASB-Mxcd5PCU",
        "colab_type": "text"
      },
      "source": [
        "Agora vamos tornar os nossos objetos um pouco mais inteligentes. Para tal, vamos adicionar um **método**, nome bonito para uma função, que altera o valor do atributo `_value`.\n",
        "\n",
        "Embora é possível acessar o estado do objeto diretamente em python (vide acima), é uma boa prática alterar o mesmo usando apenas métodos. Por isso coloco um `_` antes do atributo, para indicar que não é bom acessar o mesmo diretamente."
      ]
    },
    {
      "cell_type": "code",
      "metadata": {
        "id": "tH91OPIZ5PCW",
        "colab_type": "code",
        "colab": {}
      },
      "source": [
        "class Agregador(object):\n",
        "    \n",
        "    def __init__(self):\n",
        "        self._value = 0 \n",
        "    \n",
        "    def adiciona(self, value):\n",
        "        self._value += value\n",
        "        \n",
        "    def get_value(self):\n",
        "        return self._value"
      ],
      "execution_count": 0,
      "outputs": []
    },
    {
      "cell_type": "code",
      "metadata": {
        "id": "Mlb1NEW05PCa",
        "colab_type": "code",
        "colab": {}
      },
      "source": [
        "agg = Agregador()"
      ],
      "execution_count": 0,
      "outputs": []
    },
    {
      "cell_type": "markdown",
      "metadata": {
        "id": "8hz0y0A25PCd",
        "colab_type": "text"
      },
      "source": [
        "Observe como temos uma chamada `get_value()`. "
      ]
    },
    {
      "cell_type": "code",
      "metadata": {
        "id": "2QD-yL0Q5PCd",
        "colab_type": "code",
        "colab": {}
      },
      "source": [
        "print(agg.get_value())"
      ],
      "execution_count": 0,
      "outputs": []
    },
    {
      "cell_type": "markdown",
      "metadata": {
        "id": "cn6aJTsk5PCg",
        "colab_type": "text"
      },
      "source": [
        "Ao adicionar alguma coisa, temos um novo estado!"
      ]
    },
    {
      "cell_type": "code",
      "metadata": {
        "id": "5_s6_VQU5PCh",
        "colab_type": "code",
        "colab": {}
      },
      "source": [
        "agg.adiciona(7)\n",
        "print(agg.get_value())"
      ],
      "execution_count": 0,
      "outputs": []
    },
    {
      "cell_type": "markdown",
      "metadata": {
        "id": "bAyEUNWO5PCj",
        "colab_type": "text"
      },
      "source": [
        "Abaixo temos dois objetos diferentes com o mesmo estado. É isto!"
      ]
    },
    {
      "cell_type": "code",
      "metadata": {
        "id": "pUn5xVvw5PCj",
        "colab_type": "code",
        "colab": {}
      },
      "source": [
        "agg2 = Agregador()\n",
        "agg2.adiciona(agg.get_value())\n",
        "\n",
        "print(agg == agg2)\n",
        "print(agg.get_value() == agg2.get_value())"
      ],
      "execution_count": 0,
      "outputs": []
    },
    {
      "cell_type": "markdown",
      "metadata": {
        "id": "6dvx6Bhb5PCm",
        "colab_type": "text"
      },
      "source": [
        "No fim toda classe vai ser da forma:\n",
        "\n",
        "```\n",
        "class MinhaClasse(object):\n",
        "    <código>\n",
        "```"
      ]
    },
    {
      "cell_type": "markdown",
      "metadata": {
        "id": "X_JRId_G5PCn",
        "colab_type": "text"
      },
      "source": [
        "## Forward e Backward"
      ]
    },
    {
      "cell_type": "code",
      "metadata": {
        "id": "8maeA5YDFlN0",
        "colab_type": "code",
        "colab": {}
      },
      "source": [
        "import torch\n",
        "from torch.autograd import Variable"
      ],
      "execution_count": 0,
      "outputs": []
    },
    {
      "cell_type": "markdown",
      "metadata": {
        "id": "84n53nim5PCo",
        "colab_type": "text"
      },
      "source": [
        "Imagine que você tem uma memória onde você guarda algumas funções para derivar. Vamos criar uma mini-biblioteca de derivadas agora. A mesma é composta de classes que representam produtos e exponenciais. \n",
        "\n",
        "Vamos começar definindo a `CamadaProduto`. Ela deve conter três métodos:\n",
        "- `__init__(self, valor)` inicializando o seu parâmetro interno. Sem retorno.\n",
        "- `forward(self, entrada)` retornando o produto da entrada com seu parâmetro interno.\n",
        "- `backward(self)` retornando a derivada da operação realizada pela camada\n",
        "  - $\\partial_x kx = k $"
      ]
    },
    {
      "cell_type": "code",
      "metadata": {
        "id": "exN82MpG5PCo",
        "colab_type": "code",
        "colab": {}
      },
      "source": [
        "### TODO: Implemente aqui sua solução ###\n",
        "\n",
        "\n",
        "\n",
        "#########################################"
      ],
      "execution_count": 0,
      "outputs": []
    },
    {
      "cell_type": "markdown",
      "metadata": {
        "id": "tJO7av0WE9Rl",
        "colab_type": "text"
      },
      "source": [
        "Use a célula a seguir para testar a implementação da sua camada. A célula já implementa o forward de uma entrada na `CamadaProduto`, basta agora realizar as seguintes operações:\n",
        "- Calcular o gradiente automaticamente com as funções do torch. \n",
        "- Chamar a função `backward` da classe `CamadaProduto` que implementa manualmente a derivação."
      ]
    },
    {
      "cell_type": "code",
      "metadata": {
        "id": "wUeG4UowE8_B",
        "colab_type": "code",
        "colab": {}
      },
      "source": [
        "camada = CamadaProduto(7.)\n",
        "\n",
        "entrada = torch.tensor([9.], requires_grad=True)\n",
        "saida   = camada.forward(entrada) \n",
        "print(\"Saída:\", saida, '\\n')\n",
        "\n",
        "# TODO: rode o Autograd Torch\n",
        "print(\"Autograd Torch:\")\n",
        "#\n",
        "\n",
        "# TODO: Chame o backward implementado na classe da camada\n",
        "print(\"Backward Manual:\")\n",
        "#"
      ],
      "execution_count": 0,
      "outputs": []
    },
    {
      "cell_type": "markdown",
      "metadata": {
        "id": "QsOOXqPp5PCs",
        "colab_type": "text"
      },
      "source": [
        "Note que temos um parâmetro no `__init__`. Tal método é uma chamada especial que inicializa o estado. Veja no passo a passo [deste link](http://pythontutor.com/visualize.html#code=class%20CamadaProduto%28object%29%3A%0A%20%20def%20__init__%28self,%20valor%29%3A%0A%20%20%20%20self._valor%20%3D%20valor%0A%0A%20%20def%20forward%28self,%20entrada%29%3A%0A%20%20%20%20self._entrada%20%3D%20entrada%0A%20%20%20%20return%20entrada%20*%20self._valor%0A%20%20%20%20%0A%20%20def%20backward%28self%29%3A%0A%20%20%20%20%20%20return%20self._entrada%0A%20%20%20%20%20%20%20%20%0Acamada%20%3D%20CamadaProduto%287%29%0A%0Aentrada%20%3D%209%0Aprint%28camada.forward%28entrada%29%29%0Aprint%28camada.backward%28%29%29&cumulative=false&curInstr=0&heapPrimitives=nevernest&mode=display&origin=opt-frontend.js&py=3&rawInputLstJSON=%5B%5D&textReferences=false) como ela é chamada ao criar o objeto.\n",
        "\n",
        "Note também como em algum momento temos dois objetos na memória com estados diferentes.\n",
        "\n",
        "**Brinque com o passo a passo do link acima antes de continuar!**\n",
        "\n",
        ".\n",
        ".\n",
        "."
      ]
    },
    {
      "cell_type": "markdown",
      "metadata": {
        "id": "d7ANIWEp5PCu",
        "colab_type": "text"
      },
      "source": [
        "Agora, vamos criar uma camada que cuida da forma: $f(x, n) = x^n$. Esta deve ser chamada `CamadaPolinomial` e conter os mesmos métodos da camada implementada previamente, eles são:\n",
        "- `__init__(self, valor)` inicializando o seu parâmetro interno. Sem retorno.\n",
        "- `forward(self, entrada)` retornando a potência da entrada elevada ao seu parâmetro interno.\n",
        "- `backward(self)` retornando a derivada da operação realizada pela camada\n",
        "  - $\\partial_x x^k = kx^{k-1} $"
      ]
    },
    {
      "cell_type": "code",
      "metadata": {
        "id": "sJV9CYfW5PCu",
        "colab_type": "code",
        "colab": {}
      },
      "source": [
        "### TODO: Implemente aqui sua solução ###\n",
        "\n",
        "\n",
        "\n",
        "#########################################"
      ],
      "execution_count": 0,
      "outputs": []
    },
    {
      "cell_type": "markdown",
      "metadata": {
        "id": "ObK4KmIUKQ0F",
        "colab_type": "text"
      },
      "source": [
        "Assim como da última vez, teste abaixo a sua camada."
      ]
    },
    {
      "cell_type": "code",
      "metadata": {
        "id": "Tt0U-SHfJ1og",
        "colab_type": "code",
        "colab": {}
      },
      "source": [
        "camada = CamadaPolinomial(7.)\n",
        "\n",
        "entrada = torch.tensor([9.], requires_grad=True)\n",
        "saida   = camada.forward(entrada) \n",
        "print(\"Saída:\", saida, '\\n')\n",
        "\n",
        "# TODO: rode o Autograd Torch\n",
        "print(\"Autograd Torch:\")\n",
        "#\n",
        "\n",
        "# TODO: Chame o backward implementado na classe da camada\n",
        "print(\"Backward Manual:\")\n",
        "#"
      ],
      "execution_count": 0,
      "outputs": []
    },
    {
      "cell_type": "markdown",
      "metadata": {
        "id": "zZQyg8U25PC8",
        "colab_type": "text"
      },
      "source": [
        "A ideia da derivação automágica do pytorch é mais ou menos essa. Diferente da brincadeira acima, a biblioteca é capaz de derivar bem mais do que polinômios.\n",
        "\n",
        "Que tal ver agora como tudo se junta em uma rede neural?<br>\n",
        "Vamos criar uma classe `RedeNeural` implementando a seguinte arquitetura:\n",
        "1. CamadaProduto\n",
        "2. CamadaPolinomial\n",
        "3. CamadaProduto\n",
        "\n",
        "A classe vai implementar os mesmos métodos que implementamos para as camadas, porém com objetivos levemente diferentes. Eles são:\n",
        "- `__init__(self, valor1, valor2, valor3)` definindo as camadas que irão compor a rede. Os parâmetros de valor devem ser usados para inicializar as camadas.\n",
        "- `forward(self, entrada)` realizando o forward em todas as camadas da rede, na ordem correta e retornando a saída.\n",
        "- `backward(self)` retornando a derivada da operação realizada pela rede. Nesse caso precisamos aplicar a regra da cadeia, definida por:\n",
        "  - $\\partial_x f(g(p(x))) = f'(g(p(x))) \\times g'(p(x)) \\times p'(x) $ <br>\n",
        "\n",
        "> Note que estamos implementando o backward apenas para comparação com o autograd do pytorch. Quando implementarmos um problema real o backward manual não é necessário.\n"
      ]
    },
    {
      "cell_type": "code",
      "metadata": {
        "id": "9xelTFvpLwWH",
        "colab_type": "code",
        "colab": {}
      },
      "source": [
        "### TODO: Implemente aqui sua solução ###\n",
        "\n",
        "\n",
        "\n",
        "#########################################"
      ],
      "execution_count": 0,
      "outputs": []
    },
    {
      "cell_type": "markdown",
      "metadata": {
        "id": "BXYy0A8CWuVg",
        "colab_type": "text"
      },
      "source": [
        "Vamos testar? :)"
      ]
    },
    {
      "cell_type": "code",
      "metadata": {
        "id": "IKCzxrIkVIVm",
        "colab_type": "code",
        "colab": {}
      },
      "source": [
        "valores = [7, 2, 3]\n",
        "net = RedeNeural(valores[0], valores[1], valores[2])\n",
        "\n",
        "entrada = Variable(torch.tensor([7.]), requires_grad=True)\n",
        "out = net.forward(entrada)\n",
        "print(out, '\\n')\n",
        "\n",
        "# TODO: rode o Autograd Torch\n",
        "print(\"Autograd Torch:\")\n",
        "#\n",
        "\n",
        "# TODO: Chame o backward implementado na classe da camada\n",
        "print(\"Backward Manual:\")\n",
        "#"
      ],
      "execution_count": 0,
      "outputs": []
    },
    {
      "cell_type": "markdown",
      "metadata": {
        "id": "WvoiGL4VTxCl",
        "colab_type": "text"
      },
      "source": [
        "Note que o `grad_fn` da variável de saída apresenta apenas a última operação realizada pela rede, que representa a folha do grafo computacional. Para visualizar todo o grafo podemos usar a biblioteca **torchviz**. Sua implementação e documentação podem ser encontradas em: \n",
        "https://github.com/szagoruyko/pytorchviz\n",
        "\n",
        "Vamos começar instalando a biblioteca."
      ]
    },
    {
      "cell_type": "code",
      "metadata": {
        "id": "Z2fbn_XrTwYb",
        "colab_type": "code",
        "colab": {}
      },
      "source": [
        "!pip install torchviz\n",
        "import graphviz, torchviz"
      ],
      "execution_count": 0,
      "outputs": []
    },
    {
      "cell_type": "markdown",
      "metadata": {
        "id": "qtoF8q74Ufi_",
        "colab_type": "text"
      },
      "source": [
        "Agora basta rodar a função `make_dot` passando como parâmetro a variável de saída da rede."
      ]
    },
    {
      "cell_type": "code",
      "metadata": {
        "id": "AUJdJVsuUWkd",
        "colab_type": "code",
        "colab": {}
      },
      "source": [
        "out = net.forward(entrada)\n",
        "torchviz.make_dot(out)"
      ],
      "execution_count": 0,
      "outputs": []
    }
  ]
}